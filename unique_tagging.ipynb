{
 "cells": [
  {
   "cell_type": "code",
   "execution_count": 1,
   "metadata": {},
   "outputs": [],
   "source": [
    "import dhlab.module_update as mu"
   ]
  },
  {
   "cell_type": "code",
   "execution_count": 2,
   "metadata": {},
   "outputs": [
    {
     "data": {
      "text/markdown": [
       "Updated file `C:\\Users\\larsj\\Documents\\GitHub\\tags\\wordbank.py`"
      ],
      "text/plain": [
       "<IPython.core.display.Markdown object>"
      ]
     },
     "metadata": {},
     "output_type": "display_data"
    }
   ],
   "source": [
    "mu.update(\"wordbank\")\n",
    "import wordbank as wb"
   ]
  },
  {
   "cell_type": "code",
   "execution_count": 5,
   "metadata": {},
   "outputs": [],
   "source": [
    "import dhlab.nbtext as nb\n",
    "from collections import Counter"
   ]
  },
  {
   "cell_type": "code",
   "execution_count": 4,
   "metadata": {},
   "outputs": [],
   "source": [
    "from dhlab.nbtokenizer import tokenize"
   ]
  },
  {
   "cell_type": "code",
   "execution_count": null,
   "metadata": {},
   "outputs": [],
   "source": [
    "def check_ambig(item, L):\n",
    "    candidates = [x for x in L if x[0] = item]\n",
    "    "
   ]
  },
  {
   "cell_type": "code",
   "execution_count": 18,
   "metadata": {},
   "outputs": [
    {
     "data": {
      "text/plain": [
       "{'dette': 'pron pers 3 ent nøyt normert',\n",
       " 'er': 'verb pres <predik1> <predik2> <aux1/perf_part> <adv5> normert',\n",
       " 'en': 'verb imp <trans1> normert',\n",
       " 'ball': 'verb imp <trans1> <part1/sammen> normert'}"
      ]
     },
     "execution_count": 18,
     "metadata": {},
     "output_type": "execute_result"
    }
   ],
   "source": [
    "dict(wb.word_form_many(\"dette er en ball\".split()))"
   ]
  },
  {
   "cell_type": "code",
   "execution_count": 17,
   "metadata": {},
   "outputs": [
    {
     "data": {
      "text/plain": [
       "[('er', 1)]"
      ]
     },
     "execution_count": 17,
     "metadata": {},
     "output_type": "execute_result"
    }
   ],
   "source": [
    "[(x,c) for x, c in Counter([x[0] for x in wb.word_form_many(\"dette er en ball\".split())]).items() if c == 1]"
   ]
  },
  {
   "cell_type": "code",
   "execution_count": 25,
   "metadata": {},
   "outputs": [],
   "source": [
    "GLB_topp100 = nb.totals(100) "
   ]
  },
  {
   "cell_type": "code",
   "execution_count": 56,
   "metadata": {},
   "outputs": [],
   "source": [
    "def tag(s):\n",
    "    toks = tokenize(s)\n",
    "    forms = wb.word_form_many(toks)\n",
    "    unique = [x for x, c in Counter([x[0] for x in forms]).items() if c == 1] \n",
    "    d = dict(forms)\n",
    "    res = list()\n",
    "    for x in toks:\n",
    "        if x in unique:\n",
    "            res.append((x, d[x]))\n",
    "        elif x in d and ('perf-part' in d[x]):\n",
    "            res.append((x, 'perf_part'))\n",
    "        elif x in GLB_topp100:\n",
    "            res.append((x, x))\n",
    "        elif x.endswith('ing'):\n",
    "            res.append((x, 'subs'))\n",
    "        elif x[0].isupper():\n",
    "            res.append((x, \"PROPN\"))\n",
    "        else:\n",
    "            res.append((x, 'NN'))\n",
    "    return res          "
   ]
  },
  {
   "cell_type": "code",
   "execution_count": 57,
   "metadata": {},
   "outputs": [
    {
     "data": {
      "text/plain": [
       "[('Nå', 'PROPN'),\n",
       " ('ser', 'NN'),\n",
       " ('det', 'det'),\n",
       " ('ut', 'prep normert'),\n",
       " ('som', 'sbu normert'),\n",
       " ('at', 'at'),\n",
       " ('det', 'det'),\n",
       " ('skal', 'skal'),\n",
       " ('bli', 'NN'),\n",
       " ('regn', 'NN'),\n",
       " ('i', 'i'),\n",
       " ('dag', 'NN'),\n",
       " ('også', 'adv normert')]"
      ]
     },
     "execution_count": 57,
     "metadata": {},
     "output_type": "execute_result"
    }
   ],
   "source": [
    "tag(\"Nå ser det ut som at det skal bli regn i dag også\")"
   ]
  },
  {
   "cell_type": "code",
   "execution_count": 61,
   "metadata": {},
   "outputs": [],
   "source": [
    "tgs = tag(\"\"\"Johannes Høsflot Klæbo ble disket fra gullet på VM-femmila sist søndag etter at han kolliderte med Aleksandr Bolsjunov på oppløpet. Klæbo og Norge leverte protest som ble avvist, før Norge leverte en anke tirsdag. Den trakk Klæbo og Norge dagen etter.\n",
    "\n",
    "– Det ble en kjedelig avslutning på mesterskapet. Det ble ingen ordentlig seierherre. Det var ingen glede som det pleier å være etter VM-gull. Du merket det på stadion, det var en rar stemning, sier Sveriges Frida Karlsson til VG.\n",
    "\n",
    "Tidslinje i Klæbo-disken\n",
    "Emil Iversen endte med å få gullet foran Bolsjunov og Simen Hegstad Krüger.\n",
    "\n",
    "Hadde Klæbo fått medhold i anken ville han blitt tildelt gullet senest fredag ettermiddag. Ved avslag kunne Norge anket videre til Det internasjonale skiforbundets’ domstol eller Idrettens voldgiftsrett (CAS).\n",
    "\n",
    "\"\"\")"
   ]
  },
  {
   "cell_type": "code",
   "execution_count": 71,
   "metadata": {},
   "outputs": [
    {
     "data": {
      "text/plain": [
       "['adj pos m/f ub ent normert', 'adj pos nøyt ub ent normert', 'adv normert']"
      ]
     },
     "execution_count": 71,
     "metadata": {},
     "output_type": "execute_result"
    }
   ],
   "source": [
    "wb.word_form('sist')"
   ]
  },
  {
   "cell_type": "code",
   "execution_count": 78,
   "metadata": {},
   "outputs": [
    {
     "data": {
      "text/plain": [
       "['subst fem appell ent ub normert', 'subst mask appell ent ub normert']"
      ]
     },
     "execution_count": 78,
     "metadata": {},
     "output_type": "execute_result"
    }
   ],
   "source": [
    "wb.word_form('spising')"
   ]
  },
  {
   "cell_type": "code",
   "execution_count": 77,
   "metadata": {},
   "outputs": [
    {
     "data": {
      "text/plain": [
       "[['subs', ['spising', 'spisinga', 'spisingen', 'spisingene', 'spisinger']]]"
      ]
     },
     "execution_count": 77,
     "metadata": {},
     "output_type": "execute_result"
    }
   ],
   "source": [
    "wb.word_paradigm('spising')"
   ]
  },
  {
   "cell_type": "code",
   "execution_count": 69,
   "metadata": {},
   "outputs": [
    {
     "data": {
      "text/plain": [
       "[('Johannes', 'PROPN'),\n",
       " ('Høsflot', 'PROPN'),\n",
       " ('Klæbo', 'PROPN'),\n",
       " ('ble',\n",
       "  'verb pret <predik1> <predik2> <intrans2> <adv5> <trans5/med> <part4/til> <aux1/perf_part> normert'),\n",
       " ('disket', 'NN'),\n",
       " ('fra', 'prep normert'),\n",
       " ('gullet', 'subst nøyt appell ent be normert'),\n",
       " ('på', 'prep normert'),\n",
       " ('VM-femmila', 'PROPN'),\n",
       " ('sist', 'NN'),\n",
       " ('søndag', 'subst mask appell ent ub normert'),\n",
       " ('etter', 'prep normert'),\n",
       " ('at', 'at'),\n",
       " ('han', 'han'),\n",
       " ('kolliderte', 'NN'),\n",
       " ('med', 'med'),\n",
       " ('Aleksandr', 'PROPN'),\n",
       " ('Bolsjunov', 'PROPN'),\n",
       " ('på', 'prep normert'),\n",
       " ('oppløpet', 'subst nøyt appell ent be normert'),\n",
       " ('.', '.'),\n",
       " ('Klæbo', 'PROPN'),\n",
       " ('og', 'og'),\n",
       " ('Norge', 'PROPN'),\n",
       " ('leverte', 'NN'),\n",
       " ('protest', 'subst mask appell ent ub normert'),\n",
       " ('som', 'sbu normert'),\n",
       " ('ble',\n",
       "  'verb pret <predik1> <predik2> <intrans2> <adv5> <trans5/med> <part4/til> <aux1/perf_part> normert'),\n",
       " ('avvist', 'perf_part'),\n",
       " (',', ','),\n",
       " ('før', 'NN'),\n",
       " ('Norge', 'PROPN'),\n",
       " ('leverte', 'NN'),\n",
       " ('en', 'en'),\n",
       " ('anke', 'NN'),\n",
       " ('tirsdag', 'subst mask appell ent ub normert'),\n",
       " ('.', '.'),\n",
       " ('Den', 'Den'),\n",
       " ('trakk', 'NN'),\n",
       " ('Klæbo', 'PROPN'),\n",
       " ('og', 'og'),\n",
       " ('Norge', 'PROPN'),\n",
       " ('dagen', 'subst mask appell ent be normert'),\n",
       " ('etter', 'prep normert'),\n",
       " ('.', '.'),\n",
       " ('–', 'NN'),\n",
       " ('Det', 'Det'),\n",
       " ('ble',\n",
       "  'verb pret <predik1> <predik2> <intrans2> <adv5> <trans5/med> <part4/til> <aux1/perf_part> normert'),\n",
       " ('en', 'en'),\n",
       " ('kjedelig', 'NN'),\n",
       " ('avslutning', 'subs'),\n",
       " ('på', 'prep normert'),\n",
       " ('mesterskapet', 'subst nøyt appell ent be normert'),\n",
       " ('.', '.'),\n",
       " ('Det', 'Det'),\n",
       " ('ble',\n",
       "  'verb pret <predik1> <predik2> <intrans2> <adv5> <trans5/med> <part4/til> <aux1/perf_part> normert'),\n",
       " ('ingen', 'NN'),\n",
       " ('ordentlig', 'NN'),\n",
       " ('seierherre', 'subst mask appell ent ub normert'),\n",
       " ('.', '.'),\n",
       " ('Det', 'Det'),\n",
       " ('var', 'var'),\n",
       " ('ingen', 'NN'),\n",
       " ('glede', 'NN'),\n",
       " ('som', 'sbu normert'),\n",
       " ('det', 'det'),\n",
       " ('pleier', 'NN'),\n",
       " ('å', 'å'),\n",
       " ('være', 'være'),\n",
       " ('etter', 'prep normert'),\n",
       " ('VM-gull', 'PROPN'),\n",
       " ('.', '.'),\n",
       " ('Du', 'PROPN'),\n",
       " ('merket', 'NN'),\n",
       " ('det', 'det'),\n",
       " ('på', 'prep normert'),\n",
       " ('stadion', 'NN'),\n",
       " (',', ','),\n",
       " ('det', 'det'),\n",
       " ('var', 'var'),\n",
       " ('en', 'en'),\n",
       " ('rar', 'adj pos m/f ub ent normert'),\n",
       " ('stemning', 'subs'),\n",
       " (',', ','),\n",
       " ('sier', 'NN'),\n",
       " ('Sveriges', 'PROPN'),\n",
       " ('Frida', 'PROPN'),\n",
       " ('Karlsson', 'PROPN'),\n",
       " ('til', 'prep normert'),\n",
       " ('VG', 'PROPN'),\n",
       " ('.', '.'),\n",
       " ('Tidslinje', 'PROPN'),\n",
       " ('i', 'i'),\n",
       " ('Klæbo-disken', 'PROPN'),\n",
       " ('Emil', 'PROPN'),\n",
       " ('Iversen', 'PROPN'),\n",
       " ('endte', 'NN'),\n",
       " ('med', 'med'),\n",
       " ('å', 'å'),\n",
       " ('få', 'NN'),\n",
       " ('gullet', 'subst nøyt appell ent be normert'),\n",
       " ('foran', 'prep normert'),\n",
       " ('Bolsjunov', 'PROPN'),\n",
       " ('og', 'og'),\n",
       " ('Simen', 'PROPN'),\n",
       " ('Hegstad', 'PROPN'),\n",
       " ('Krüger', 'PROPN'),\n",
       " ('.', '.'),\n",
       " ('Hadde', 'PROPN'),\n",
       " ('Klæbo', 'PROPN'),\n",
       " ('fått', 'perf_part'),\n",
       " ('medhold', 'NN'),\n",
       " ('i', 'i'),\n",
       " ('anken', 'subst mask appell ent be normert'),\n",
       " ('ville', 'NN'),\n",
       " ('han', 'han'),\n",
       " ('blitt', 'perf_part'),\n",
       " ('tildelt', 'perf_part'),\n",
       " ('gullet', 'subst nøyt appell ent be normert'),\n",
       " ('senest', 'adj sup ub normert'),\n",
       " ('fredag', 'subst mask appell ent ub normert'),\n",
       " ('ettermiddag', 'subst mask appell ent ub normert'),\n",
       " ('.', '.'),\n",
       " ('Ved', 'PROPN'),\n",
       " ('avslag', 'NN'),\n",
       " ('kunne', 'kunne'),\n",
       " ('Norge', 'PROPN'),\n",
       " ('anket', 'NN'),\n",
       " ('videre', 'adj komp normert'),\n",
       " ('til', 'prep normert'),\n",
       " ('Det', 'Det'),\n",
       " ('internasjonale', 'NN'),\n",
       " ('skiforbundets', 'NN'),\n",
       " ('’', 'NN'),\n",
       " ('domstol', 'subst mask appell ent ub normert'),\n",
       " ('eller', 'eller'),\n",
       " ('Idrettens', 'PROPN'),\n",
       " ('voldgiftsrett', 'subst mask appell ent ub normert'),\n",
       " ('(', '('),\n",
       " ('CAS', 'PROPN'),\n",
       " (')', ')'),\n",
       " ('.', '.')]"
      ]
     },
     "execution_count": 69,
     "metadata": {},
     "output_type": "execute_result"
    }
   ],
   "source": [
    "tgs"
   ]
  },
  {
   "cell_type": "code",
   "execution_count": 72,
   "metadata": {},
   "outputs": [
    {
     "data": {
      "text/plain": [
       "142"
      ]
     },
     "execution_count": 72,
     "metadata": {},
     "output_type": "execute_result"
    }
   ],
   "source": [
    "len(tgs)"
   ]
  },
  {
   "cell_type": "code",
   "execution_count": 65,
   "metadata": {},
   "outputs": [
    {
     "data": {
      "text/plain": [
       "27"
      ]
     },
     "execution_count": 65,
     "metadata": {},
     "output_type": "execute_result"
    }
   ],
   "source": [
    "len([x for x in tgs if x[1] == 'NN'])"
   ]
  },
  {
   "cell_type": "code",
   "execution_count": 79,
   "metadata": {},
   "outputs": [
    {
     "data": {
      "text/plain": [
       "80.98591549295774"
      ]
     },
     "execution_count": 79,
     "metadata": {},
     "output_type": "execute_result"
    }
   ],
   "source": [
    "(142-27)*100/142"
   ]
  },
  {
   "cell_type": "code",
   "execution_count": 73,
   "metadata": {},
   "outputs": [
    {
     "data": {
      "text/plain": [
       "['adj <perf-part> m/f ub ent <intrans1> <trans1> <trans2> <ditrans1> <ditrans2> <trans11/med> <trans11/på> <refl5> normert',\n",
       " 'adj <perf-part> nøyt ub ent <intrans1> <trans1> <trans2> <ditrans1> <ditrans2> <trans11/med> <trans11/på> <refl5> normert',\n",
       " 'verb perf-part <intrans1> <trans1> <trans2> <ditrans1> <ditrans2> <trans11/med> <trans11/på> <refl5> normert',\n",
       " 'adj pos m/f ub ent normert',\n",
       " 'adj pos nøyt ub ent normert',\n",
       " 'subst nøyt appell ubøy normert']"
      ]
     },
     "execution_count": 73,
     "metadata": {},
     "output_type": "execute_result"
    }
   ],
   "source": [
    "wb.word_form('svart')"
   ]
  },
  {
   "cell_type": "code",
   "execution_count": 66,
   "metadata": {},
   "outputs": [
    {
     "data": {
      "text/plain": [
       "43"
      ]
     },
     "execution_count": 66,
     "metadata": {},
     "output_type": "execute_result"
    }
   ],
   "source": [
    "len([x for x in tgs if x[1] == x[0]])"
   ]
  },
  {
   "cell_type": "code",
   "execution_count": 68,
   "metadata": {},
   "outputs": [
    {
     "data": {
      "text/plain": [
       "4"
      ]
     },
     "execution_count": 68,
     "metadata": {},
     "output_type": "execute_result"
    }
   ],
   "source": [
    "len([x for x in tgs if x[1] == 'perf_part'])"
   ]
  },
  {
   "cell_type": "code",
   "execution_count": 60,
   "metadata": {},
   "outputs": [
    {
     "data": {
      "text/plain": [
       "['adj pos m/f ub ent normert', 'adj pos nøyt ub ent normert', 'adv normert']"
      ]
     },
     "execution_count": 60,
     "metadata": {},
     "output_type": "execute_result"
    }
   ],
   "source": [
    "wb.word_form('sist')"
   ]
  },
  {
   "cell_type": "code",
   "execution_count": null,
   "metadata": {},
   "outputs": [],
   "source": []
  }
 ],
 "metadata": {
  "kernelspec": {
   "display_name": "Python 3",
   "language": "python",
   "name": "python3"
  },
  "language_info": {
   "codemirror_mode": {
    "name": "ipython",
    "version": 3
   },
   "file_extension": ".py",
   "mimetype": "text/x-python",
   "name": "python",
   "nbconvert_exporter": "python",
   "pygments_lexer": "ipython3",
   "version": "3.8.3"
  }
 },
 "nbformat": 4,
 "nbformat_minor": 4
}
