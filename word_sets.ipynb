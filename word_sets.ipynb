{
 "cells": [
  {
   "cell_type": "code",
   "execution_count": 2,
   "metadata": {},
   "outputs": [
    {
     "data": {
      "text/markdown": [
       "Updated file `C:\\Users\\larsj\\Documents\\GitHub\\tags\\wordbank.py`"
      ],
      "text/plain": [
       "<IPython.core.display.Markdown object>"
      ]
     },
     "metadata": {},
     "output_type": "display_data"
    }
   ],
   "source": [
    "import dhlab.nbtext as nb\n",
    "import dhlab.module_update as mu\n",
    "import dhlab.graph_networkx_louvain as gnl\n",
    "mu.update('wordbank')\n",
    "import wordbank as wb"
   ]
  },
  {
   "cell_type": "code",
   "execution_count": 3,
   "metadata": {},
   "outputs": [],
   "source": [
    "words = \"vondt godt lykkelig positivt negativt\".split()"
   ]
  },
  {
   "cell_type": "code",
   "execution_count": 4,
   "metadata": {},
   "outputs": [],
   "source": [
    "Gs =  {w:nb.make_graph(w, cutoff = 16) for w in words}"
   ]
  },
  {
   "cell_type": "code",
   "execution_count": 5,
   "metadata": {},
   "outputs": [
    {
     "name": "stdout",
     "output_type": "stream",
     "text": [
      "vondt\n",
      "(3, 1) trist, skittent, vondt, stygt, urettferdig, ekkelt, uvirkelig, tidkrevende, langt, vanskeleg, grått, leit, morsomt, stort, farlig, sårt, fælt, tungt, kaldt, vakkert, smertefullt, mørkt, hardt, beklagelig, vanskelig, krevende, kjedelig\n",
      "\n",
      "(3, 2) diaré, vondt, kvalme, feber, hodepine, forkjolelse, tørrhoste, muskelsmerter, forkjølelse\n",
      "\n",
      "(4, 1) trist, vondt, sårt, tungt, smertefullt, leit, vanskelig\n",
      "\n",
      "(4, 2) skittent, vondt, stygt, fælt, ekkelt\n",
      "\n",
      "(5, 1) trist, vondt, leit, sårt, tungt\n",
      "\n",
      "godt\n",
      "(3, 1) aktivt, Godt, miljøvennlig, stabilt, pent, Enkelt, trygt, Lyst, raskt, lunt, høyt, jevnt, utfordrende, nært, tett, forutsigbart, utviklende, uformelt, tørt, fruktbart, hurtig, ekspansivt, inspirerende, travelt, rimelig, effektivt, billig, Rask, fint, profesjonelt, godt, trivelig, fortrolig, intimt, hektisk, ungt, rolig, konstruktivt, sikkert, tillitsfullt, varmt, enkelt, behagelig, vakkert, Raskt\n",
      "\n",
      "(3, 2) variert, godt, sunt, glansfullt, velsmakende, morsomt, Sunt, friskt\n",
      "\n",
      "(3, 3) evne, humor, initiativ, energi, humør, samarbeidsevne, godt, arbeidslyst, pågangsmot, arbeidsglede, innsatsvilje, kreativitet, Initiativ\n",
      "\n",
      "(4, 1) billig, stabilt, trygt, raskt, lunt, godt, trivelig, sikkert, rimelig, enkelt, varmt, behagelig, effektivt, utviklende\n",
      "\n",
      "(4, 2) godt, nært, tillitsfullt, varmt\n",
      "\n",
      "lykkelig\n",
      "(3, 1) takknemlig, fornøyd, fredelig, sunn, Blid, optimistisk, godt, smilende, selvsikker, rørt, velordnet, imponert, tilfreds, fredfylt, trygg, snill, rolig, lettet, lykkelig, sliten, blid, harmonisk, vakkert, ydmyk, beæret, overrasket, behagelig, kjempeglad, Glad, stolt, glad\n",
      "\n",
      "(3, 2) langt, aktivt, rikt, virksomt, lykkelig\n",
      "\n",
      "(4, 1) takknemlig, fornøyd, lettet, blid, harmonisk, rørt, glad, tilfreds, Glad, trygg, stolt, lykkelig\n",
      "\n",
      "(5, 1) takknemlig, fornøyd, lykkelig, lettet, Glad, stolt, glad\n",
      "\n",
      "positivt\n",
      "(3, 1) aktivt, selvstendige, dynamisk, interessante, varierte, målrettet, trygt, resultatorientert, hyggelig, faglig, utfordrende, Spennende, nært, engasjert, utviklende, uformelt, kort, stimulerende, ekspansivt, inspirerende, inkluderende, travelt, tverrfaglig, dyktig, Utfordrende, positivt, engasjerende, Interessant, sosialt, variert, byggende, kreativ, interessant, lærerik, profesjonelt, godt, trivelig, sunt, morsomt, givende, gledelig, motiverende, friskt, hektisk, selvstendig, Trivelig, ungt, Ungt, konstruktivt, lærerikt, markedsorientert, innovativt, Hyggelig, nytt, Uformelt, spennende, kreativt, kollegialt, levende, krevende, Interessante\n",
      "\n",
      "(4, 1) aktivt, dynamisk, hyggelig, utfordrende, utviklende, uformelt, stimulerende, ekspansivt, inspirerende, inkluderende, travelt, positivt, engasjerende, variert, sosialt, interessant, lærerik, trivelig, godt, sunt, hektisk, selvstendig, Trivelig, ungt, Ungt, lærerikt, konstruktivt, Hyggelig, Uformelt, spennende, kreativt, kollegialt, krevende\n",
      "\n",
      "(5, 1) aktivt, dynamisk, interessant, trivelig, godt, hyggelig, utfordrende, utviklende, hektisk, uformelt, stimulerende, ungt, inspirerende, ekspansivt, lærerikt, konstruktivt, travelt, Uformelt, spennende, kreativt, positivt, engasjerende, krevende\n",
      "\n",
      "(6, 1) aktivt, dynamisk, interessant, godt, trivelig, hyggelig, utfordrende, utviklende, hektisk, uformelt, stimulerende, ungt, inspirerende, ekspansivt, Uformelt, spennende, kreativt, positivt, engasjerende, krevende\n",
      "\n",
      "(7, 1) aktivt, stimulerende, ungt, inspirerende, dynamisk, uformelt, trivelig, hyggelig, kreativt, positivt, engasjerende, hektisk\n",
      "\n",
      "(7, 2) aktivt, stimulerende, utfordrende, inspirerende, positivt, engasjerende, utviklende\n",
      "\n",
      "negativt\n"
     ]
    }
   ],
   "source": [
    "for x in Gs:\n",
    "    print(x)\n",
    "    gnl.show_cliques(Gs[x])"
   ]
  },
  {
   "cell_type": "code",
   "execution_count": 6,
   "metadata": {},
   "outputs": [
    {
     "data": {
      "text/plain": [
       "['blid',\n",
       " 'glad',\n",
       " 'positiv',\n",
       " 'hjelpsom',\n",
       " 'omgjengelig',\n",
       " 'serviceinnstilt',\n",
       " 'utadvendt',\n",
       " 'hyggelig',\n",
       " 'aktiv',\n",
       " 'imøtekommende',\n",
       " 'grei',\n",
       " 'smilende',\n",
       " 'snill',\n",
       " 'utadvent',\n",
       " 'optimistisk',\n",
       " 'sprudlende',\n",
       " 'initiativrik',\n",
       " 'vennlig',\n",
       " 'fornøyd',\n",
       " 'kjekk']"
      ]
     },
     "execution_count": 6,
     "metadata": {},
     "output_type": "execute_result"
    }
   ],
   "source": [
    "nb.relaterte_ord('glad, lykkelig, blid')"
   ]
  },
  {
   "cell_type": "code",
   "execution_count": 7,
   "metadata": {},
   "outputs": [],
   "source": [
    "gnl.draw_tree??"
   ]
  },
  {
   "cell_type": "code",
   "execution_count": null,
   "metadata": {},
   "outputs": [],
   "source": [
    "gnl.forest(Gs['vondt'])"
   ]
  }
 ],
 "metadata": {
  "kernelspec": {
   "display_name": "Python 3",
   "language": "python",
   "name": "python3"
  },
  "language_info": {
   "codemirror_mode": {
    "name": "ipython",
    "version": 3
   },
   "file_extension": ".py",
   "mimetype": "text/x-python",
   "name": "python",
   "nbconvert_exporter": "python",
   "pygments_lexer": "ipython3",
   "version": "3.8.3"
  }
 },
 "nbformat": 4,
 "nbformat_minor": 4
}
